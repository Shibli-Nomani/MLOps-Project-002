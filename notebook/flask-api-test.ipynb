{
 "cells": [
  {
   "cell_type": "code",
   "execution_count": 27,
   "metadata": {},
   "outputs": [],
   "source": [
    "#import libraries\n",
    "import requests\n",
    "import json"
   ]
  },
  {
   "cell_type": "code",
   "execution_count": 28,
   "metadata": {},
   "outputs": [
    {
     "name": "stdout",
     "output_type": "stream",
     "text": [
      "200\n",
      "{\"message\":\"api active!\"}\n",
      "\n"
     ]
    }
   ],
   "source": [
    "#test the health endpoint\n",
    "health_url = 'http://127.0.0.1/health'\n",
    "health_response = requests.get(health_url)\n",
    "print(health_response.status_code)\n",
    "print(health_response.text)"
   ]
  },
  {
   "cell_type": "markdown",
   "metadata": {},
   "source": [
    "### Model Test"
   ]
  },
  {
   "cell_type": "code",
   "execution_count": 32,
   "metadata": {},
   "outputs": [
    {
     "name": "stdout",
     "output_type": "stream",
     "text": [
      "{'model_uuid': 'a92740e4118a4bd586ac9884b6b7c3bc', 'prediction': 3329.6, 'run_id': 'd5fa30d062ae46b3bbead72bd526ec5b', 'utc_time_created': '2023-10-24 14:57:23.471508'}\n"
     ]
    }
   ],
   "source": [
    "import requests\n",
    "\n",
    "# Define the server URL\n",
    "server_url = 'http://127.0.0.1/api/v1'\n",
    "\n",
    "# Sample input data for prediction\n",
    "feature_len = 29\n",
    "feature = [0.1 for i in range(feature_len)]\n",
    "\n",
    "input_data = {\n",
    "    'features': feature  # Replace with your actual input data\n",
    "}\n",
    "\n",
    "# Send a POST request to the server\n",
    "response = requests.post(server_url, json=input_data)\n",
    "\n",
    "# Check if the request was successful (status code 200)\n",
    "if response.status_code == 200:\n",
    "    # Parse the JSON response\n",
    "    data = response.json()\n",
    "    print(data)\n",
    "else:\n",
    "    print(response.text)"
   ]
  }
 ],
 "metadata": {
  "kernelspec": {
   "display_name": "mlops_env",
   "language": "python",
   "name": "python3"
  },
  "language_info": {
   "codemirror_mode": {
    "name": "ipython",
    "version": 3
   },
   "file_extension": ".py",
   "mimetype": "text/x-python",
   "name": "python",
   "nbconvert_exporter": "python",
   "pygments_lexer": "ipython3",
   "version": "3.8.6"
  }
 },
 "nbformat": 4,
 "nbformat_minor": 2
}
